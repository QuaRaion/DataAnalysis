{
 "cells": [
  {
   "cell_type": "markdown",
   "metadata": {
    "id": "xi02t3gOzfGw"
   },
   "source": [
    "# Лабораторная работа №1. Предварительный анализ данных 2024"
   ]
  },
  {
   "cell_type": "markdown",
   "metadata": {
    "id": "iWW0TwENq4jN"
   },
   "source": [
    "### Цель работы"
   ]
  },
  {
   "cell_type": "markdown",
   "metadata": {
    "id": "aRW8V7dyqCEB"
   },
   "source": [
    "Осуществить предварительную обработку данных csv-файла, выявить и устранить проблемы в этих данных."
   ]
  },
  {
   "cell_type": "markdown",
   "metadata": {
    "id": "b_mrLp01qnjP"
   },
   "source": [
    "### Ход выполнения работы"
   ]
  },
  {
   "cell_type": "markdown",
   "metadata": {
    "id": "CTnN8FwB5Cvb"
   },
   "source": [
    "Для начала работы подключается библиотека `Pandas` и с помощью нее загружается датасет из `csv` файла, с указанием в качестве разделительного знака \";\".\n",
    "Выводятся первые 20 строк датасета с помощью метода `head()`.\n",
    "Набор данных `drivers.csv` содержит информацию о поездках в такси:\n",
    "1. Дата и время начала (`START_DATE`)\n",
    "2. Дата и время окончания (`END_DATE`)\n",
    "3. Категория (`CATEGORY*`)\n",
    "4. Место начала (можно не проверять данный столбец на наличие неявных дубликатов) (`START`)\n",
    "5. Место окончания (можно не проверять данный столбец на наличие неявных дубликатов) (`STOP`)\n",
    "6. Пройденные мили (`MILES`)\n",
    "7. Цель поездки (`PURPOSEroute`)"
   ]
  },
  {
   "cell_type": "code",
   "execution_count": 1,
   "metadata": {
    "colab": {
     "base_uri": "https://localhost:8080/",
     "height": 669
    },
    "executionInfo": {
     "elapsed": 1424,
     "status": "ok",
     "timestamp": 1726072016019,
     "user": {
      "displayName": "Sherzod Mahkamov",
      "userId": "09824302253636367451"
     },
     "user_tz": -180
    },
    "id": "u-rNdXIun9JL",
    "outputId": "93d0da9f-e7a0-4479-966b-bc064ee16df7"
   },
   "outputs": [
    {
     "data": {
      "text/html": [
       "<div>\n",
       "<style scoped>\n",
       "    .dataframe tbody tr th:only-of-type {\n",
       "        vertical-align: middle;\n",
       "    }\n",
       "\n",
       "    .dataframe tbody tr th {\n",
       "        vertical-align: top;\n",
       "    }\n",
       "\n",
       "    .dataframe thead th {\n",
       "        text-align: right;\n",
       "    }\n",
       "</style>\n",
       "<table border=\"1\" class=\"dataframe\">\n",
       "  <thead>\n",
       "    <tr style=\"text-align: right;\">\n",
       "      <th></th>\n",
       "      <th>START_DATE</th>\n",
       "      <th>END_DATE</th>\n",
       "      <th>CATEGORY*</th>\n",
       "      <th>START</th>\n",
       "      <th>STOP</th>\n",
       "      <th>MILES</th>\n",
       "      <th>PURPOSEroute</th>\n",
       "    </tr>\n",
       "  </thead>\n",
       "  <tbody>\n",
       "    <tr>\n",
       "      <th>0</th>\n",
       "      <td>01.10.2016 19:12</td>\n",
       "      <td>01.10.2016 19:32</td>\n",
       "      <td>Business</td>\n",
       "      <td>Midtown</td>\n",
       "      <td>East Harlem</td>\n",
       "      <td>44963.0</td>\n",
       "      <td>MEETING</td>\n",
       "    </tr>\n",
       "    <tr>\n",
       "      <th>1</th>\n",
       "      <td>01.11.2016 13:32</td>\n",
       "      <td>01.11.2016 13:46</td>\n",
       "      <td>Business</td>\n",
       "      <td>Midtown</td>\n",
       "      <td>Midtown East</td>\n",
       "      <td>45108.0</td>\n",
       "      <td>Meal/Entertain</td>\n",
       "    </tr>\n",
       "    <tr>\n",
       "      <th>2</th>\n",
       "      <td>01.12.2016 12:33</td>\n",
       "      <td>01.12.2016 12:49</td>\n",
       "      <td>Business</td>\n",
       "      <td>Midtown</td>\n",
       "      <td>Hudson Square</td>\n",
       "      <td>45170.0</td>\n",
       "      <td>Meal/Entertain</td>\n",
       "    </tr>\n",
       "    <tr>\n",
       "      <th>3</th>\n",
       "      <td>1.13.2016 15:00</td>\n",
       "      <td>1.13.2016 15:28</td>\n",
       "      <td>Business</td>\n",
       "      <td>Gulfton</td>\n",
       "      <td>Downtown</td>\n",
       "      <td>45149.0</td>\n",
       "      <td>Meeting</td>\n",
       "    </tr>\n",
       "    <tr>\n",
       "      <th>4</th>\n",
       "      <td>1.29.2016 21:21</td>\n",
       "      <td>1.29.2016 21:40</td>\n",
       "      <td>Business</td>\n",
       "      <td>Apex</td>\n",
       "      <td>Cary</td>\n",
       "      <td>45051.0</td>\n",
       "      <td>Meal/Entertain</td>\n",
       "    </tr>\n",
       "    <tr>\n",
       "      <th>5</th>\n",
       "      <td>1.30.2016 18:09</td>\n",
       "      <td>1.30.2016 18:24</td>\n",
       "      <td>Business</td>\n",
       "      <td>Apex</td>\n",
       "      <td>Cary</td>\n",
       "      <td>45112.0</td>\n",
       "      <td>Customer Visit</td>\n",
       "    </tr>\n",
       "    <tr>\n",
       "      <th>6</th>\n",
       "      <td>02.01.2016 12:10</td>\n",
       "      <td>02.01.2016 12:43</td>\n",
       "      <td>Business</td>\n",
       "      <td>Chapel Hill</td>\n",
       "      <td>Cary</td>\n",
       "      <td>45008.0</td>\n",
       "      <td>Customer Visit</td>\n",
       "    </tr>\n",
       "    <tr>\n",
       "      <th>7</th>\n",
       "      <td>02.04.2016 9:37</td>\n",
       "      <td>02.04.2016 10:09</td>\n",
       "      <td>Business</td>\n",
       "      <td>Morrisville</td>\n",
       "      <td>Cary</td>\n",
       "      <td>45116.0</td>\n",
       "      <td>Meal/Entertain</td>\n",
       "    </tr>\n",
       "    <tr>\n",
       "      <th>8</th>\n",
       "      <td>02.07.2016 18:03</td>\n",
       "      <td>02.07.2016 18:17</td>\n",
       "      <td>Business</td>\n",
       "      <td>Apex</td>\n",
       "      <td>Cary</td>\n",
       "      <td>45112.0</td>\n",
       "      <td>Customer Visit</td>\n",
       "    </tr>\n",
       "    <tr>\n",
       "      <th>9</th>\n",
       "      <td>02.07.2016 20:22</td>\n",
       "      <td>02.07.2016 20:40</td>\n",
       "      <td>Business</td>\n",
       "      <td>Morrisville</td>\n",
       "      <td>Cary</td>\n",
       "      <td>44932.0</td>\n",
       "      <td>Meeting</td>\n",
       "    </tr>\n",
       "    <tr>\n",
       "      <th>10</th>\n",
       "      <td>02.09.2016 20:24</td>\n",
       "      <td>02.09.2016 20:40</td>\n",
       "      <td>Business</td>\n",
       "      <td>Morrisville</td>\n",
       "      <td>Cary</td>\n",
       "      <td>44932.0</td>\n",
       "      <td>Meal/Entertain</td>\n",
       "    </tr>\n",
       "    <tr>\n",
       "      <th>11</th>\n",
       "      <td>02.11.2016 20:36</td>\n",
       "      <td>02.11.2016 20:51</td>\n",
       "      <td>Business</td>\n",
       "      <td>Morrisville</td>\n",
       "      <td>Cary</td>\n",
       "      <td>44932.0</td>\n",
       "      <td>Temporary Site</td>\n",
       "    </tr>\n",
       "    <tr>\n",
       "      <th>12</th>\n",
       "      <td>02.12.2016 11:14</td>\n",
       "      <td>02.12.2016 11:35</td>\n",
       "      <td>Business</td>\n",
       "      <td>Morrisville</td>\n",
       "      <td>Raleigh</td>\n",
       "      <td>17.0</td>\n",
       "      <td>Customer Visit</td>\n",
       "    </tr>\n",
       "    <tr>\n",
       "      <th>13</th>\n",
       "      <td>02.12.2016 15:33</td>\n",
       "      <td>02.12.2016 16:06</td>\n",
       "      <td>Business</td>\n",
       "      <td>Morrisville</td>\n",
       "      <td>Cary</td>\n",
       "      <td>45057.0</td>\n",
       "      <td>Customer Visit</td>\n",
       "    </tr>\n",
       "    <tr>\n",
       "      <th>14</th>\n",
       "      <td>2.14.2016 14:46</td>\n",
       "      <td>2.14.2016 15:03</td>\n",
       "      <td>Business</td>\n",
       "      <td>Midtown</td>\n",
       "      <td>Midtown West</td>\n",
       "      <td>2.0</td>\n",
       "      <td>Meeting</td>\n",
       "    </tr>\n",
       "    <tr>\n",
       "      <th>15</th>\n",
       "      <td>2.16.2016 10:31</td>\n",
       "      <td>2.16.2016 10:41</td>\n",
       "      <td>BUSINESS</td>\n",
       "      <td>Colombo</td>\n",
       "      <td>Colombo</td>\n",
       "      <td>45079.0</td>\n",
       "      <td>NaN</td>\n",
       "    </tr>\n",
       "    <tr>\n",
       "      <th>16</th>\n",
       "      <td>2.16.2016 11:32</td>\n",
       "      <td>2.16.2016 12:02</td>\n",
       "      <td>Business</td>\n",
       "      <td>Colombo</td>\n",
       "      <td>Colombo</td>\n",
       "      <td>45050.0</td>\n",
       "      <td>NaN</td>\n",
       "    </tr>\n",
       "    <tr>\n",
       "      <th>17</th>\n",
       "      <td>2.16.2016 12:39</td>\n",
       "      <td>2.16.2016 12:42</td>\n",
       "      <td>Business</td>\n",
       "      <td>Colombo</td>\n",
       "      <td>Colombo</td>\n",
       "      <td>45108.0</td>\n",
       "      <td>NaN</td>\n",
       "    </tr>\n",
       "    <tr>\n",
       "      <th>18</th>\n",
       "      <td>2.16.2016 13:43</td>\n",
       "      <td>2.16.2016 13:55</td>\n",
       "      <td>BUSINESS</td>\n",
       "      <td>Colombo</td>\n",
       "      <td>Colombo</td>\n",
       "      <td>45139.0</td>\n",
       "      <td>Temporary Site</td>\n",
       "    </tr>\n",
       "    <tr>\n",
       "      <th>19</th>\n",
       "      <td>2.16.2016 16:34</td>\n",
       "      <td>2.16.2016 17:10</td>\n",
       "      <td>Business</td>\n",
       "      <td>Colombo</td>\n",
       "      <td>Colombo</td>\n",
       "      <td>6.0</td>\n",
       "      <td>NaN</td>\n",
       "    </tr>\n",
       "  </tbody>\n",
       "</table>\n",
       "</div>"
      ],
      "text/plain": [
       "          START_DATE          END_DATE CATEGORY*        START           STOP  \\\n",
       "0   01.10.2016 19:12  01.10.2016 19:32  Business      Midtown    East Harlem   \n",
       "1   01.11.2016 13:32  01.11.2016 13:46  Business      Midtown   Midtown East   \n",
       "2   01.12.2016 12:33  01.12.2016 12:49  Business      Midtown  Hudson Square   \n",
       "3    1.13.2016 15:00   1.13.2016 15:28  Business      Gulfton       Downtown   \n",
       "4    1.29.2016 21:21   1.29.2016 21:40  Business         Apex           Cary   \n",
       "5    1.30.2016 18:09   1.30.2016 18:24  Business         Apex           Cary   \n",
       "6   02.01.2016 12:10  02.01.2016 12:43  Business  Chapel Hill           Cary   \n",
       "7    02.04.2016 9:37  02.04.2016 10:09  Business  Morrisville           Cary   \n",
       "8   02.07.2016 18:03  02.07.2016 18:17  Business         Apex           Cary   \n",
       "9   02.07.2016 20:22  02.07.2016 20:40  Business  Morrisville           Cary   \n",
       "10  02.09.2016 20:24  02.09.2016 20:40  Business  Morrisville           Cary   \n",
       "11  02.11.2016 20:36  02.11.2016 20:51  Business  Morrisville           Cary   \n",
       "12  02.12.2016 11:14  02.12.2016 11:35  Business  Morrisville        Raleigh   \n",
       "13  02.12.2016 15:33  02.12.2016 16:06  Business  Morrisville           Cary   \n",
       "14   2.14.2016 14:46   2.14.2016 15:03  Business      Midtown   Midtown West   \n",
       "15   2.16.2016 10:31   2.16.2016 10:41  BUSINESS      Colombo        Colombo   \n",
       "16   2.16.2016 11:32   2.16.2016 12:02  Business      Colombo        Colombo   \n",
       "17   2.16.2016 12:39   2.16.2016 12:42  Business      Colombo        Colombo   \n",
       "18   2.16.2016 13:43   2.16.2016 13:55  BUSINESS      Colombo        Colombo   \n",
       "19   2.16.2016 16:34   2.16.2016 17:10  Business      Colombo        Colombo   \n",
       "\n",
       "      MILES    PURPOSEroute  \n",
       "0   44963.0         MEETING  \n",
       "1   45108.0  Meal/Entertain  \n",
       "2   45170.0  Meal/Entertain  \n",
       "3   45149.0         Meeting  \n",
       "4   45051.0  Meal/Entertain  \n",
       "5   45112.0  Customer Visit  \n",
       "6   45008.0  Customer Visit  \n",
       "7   45116.0  Meal/Entertain  \n",
       "8   45112.0  Customer Visit  \n",
       "9   44932.0         Meeting  \n",
       "10  44932.0  Meal/Entertain  \n",
       "11  44932.0  Temporary Site  \n",
       "12     17.0  Customer Visit  \n",
       "13  45057.0  Customer Visit  \n",
       "14      2.0         Meeting  \n",
       "15  45079.0             NaN  \n",
       "16  45050.0             NaN  \n",
       "17  45108.0             NaN  \n",
       "18  45139.0  Temporary Site  \n",
       "19      6.0             NaN  "
      ]
     },
     "execution_count": 1,
     "metadata": {},
     "output_type": "execute_result"
    }
   ],
   "source": [
    "import pandas as pd\n",
    "drivers = pd.read_csv('datasets/drivers.csv', sep=';')\n",
    "drivers.head(20)"
   ]
  },
  {
   "cell_type": "markdown",
   "metadata": {
    "id": "wGoeNOaX7w1q"
   },
   "source": [
    "С помощью метода `info()` оцениваются данные: есть ли пропуски, сколько всего строк, какие типы данных у столбцов."
   ]
  },
  {
   "cell_type": "code",
   "execution_count": 2,
   "metadata": {
    "colab": {
     "base_uri": "https://localhost:8080/"
    },
    "executionInfo": {
     "elapsed": 512,
     "status": "ok",
     "timestamp": 1725837435863,
     "user": {
      "displayName": "Sherzod Mahkamov",
      "userId": "09824302253636367451"
     },
     "user_tz": -180
    },
    "id": "EROjQcMe7SuX",
    "outputId": "cbd521d9-f5ae-4983-af74-1178fecd29eb"
   },
   "outputs": [
    {
     "name": "stdout",
     "output_type": "stream",
     "text": [
      "<class 'pandas.core.frame.DataFrame'>\n",
      "RangeIndex: 161 entries, 0 to 160\n",
      "Data columns (total 7 columns):\n",
      " #   Column        Non-Null Count  Dtype  \n",
      "---  ------        --------------  -----  \n",
      " 0   START_DATE    161 non-null    object \n",
      " 1   END_DATE      161 non-null    object \n",
      " 2   CATEGORY*     161 non-null    object \n",
      " 3   START         161 non-null    object \n",
      " 4   STOP          161 non-null    object \n",
      " 5   MILES         161 non-null    float64\n",
      " 6   PURPOSEroute  84 non-null     object \n",
      "dtypes: float64(1), object(6)\n",
      "memory usage: 8.9+ KB\n"
     ]
    }
   ],
   "source": [
    "drivers.info()"
   ]
  },
  {
   "cell_type": "markdown",
   "metadata": {
    "id": "JUcvwmSK-mIw"
   },
   "source": [
    "Применяется метод `describe()`, для оценки числовых столбцов, в данном случае столбца `MILES`.\n",
    "\n",
    "По выводу команды можно определить:\n",
    "*   `count`: количество заполненных строк;\n",
    "*   `mean`: среднее значение;\n",
    "*   `std`: стандартное огтклонение;\n",
    "*   `min`: минимальное число;\n",
    "*   `25%`: 25-й процентиль;\n",
    "*   `50%`: 50-й процентиль;\n",
    "*   `75%`: 75-й процентиль;\n",
    "*   `max`: максимальное число."
   ]
  },
  {
   "cell_type": "code",
   "execution_count": 3,
   "metadata": {
    "colab": {
     "base_uri": "https://localhost:8080/",
     "height": 297
    },
    "executionInfo": {
     "elapsed": 536,
     "status": "ok",
     "timestamp": 1725838266025,
     "user": {
      "displayName": "Sherzod Mahkamov",
      "userId": "09824302253636367451"
     },
     "user_tz": -180
    },
    "id": "cCIdihYk7_Yr",
    "outputId": "5ddc666c-8ab2-47ab-93bc-a77a9a5e2001"
   },
   "outputs": [
    {
     "data": {
      "text/html": [
       "<div>\n",
       "<style scoped>\n",
       "    .dataframe tbody tr th:only-of-type {\n",
       "        vertical-align: middle;\n",
       "    }\n",
       "\n",
       "    .dataframe tbody tr th {\n",
       "        vertical-align: top;\n",
       "    }\n",
       "\n",
       "    .dataframe thead th {\n",
       "        text-align: right;\n",
       "    }\n",
       "</style>\n",
       "<table border=\"1\" class=\"dataframe\">\n",
       "  <thead>\n",
       "    <tr style=\"text-align: right;\">\n",
       "      <th></th>\n",
       "      <th>MILES</th>\n",
       "    </tr>\n",
       "  </thead>\n",
       "  <tbody>\n",
       "    <tr>\n",
       "      <th>count</th>\n",
       "      <td>161.000000</td>\n",
       "    </tr>\n",
       "    <tr>\n",
       "      <th>mean</th>\n",
       "      <td>37766.519255</td>\n",
       "    </tr>\n",
       "    <tr>\n",
       "      <th>std</th>\n",
       "      <td>16614.925558</td>\n",
       "    </tr>\n",
       "    <tr>\n",
       "      <th>min</th>\n",
       "      <td>0.800000</td>\n",
       "    </tr>\n",
       "    <tr>\n",
       "      <th>25%</th>\n",
       "      <td>44931.000000</td>\n",
       "    </tr>\n",
       "    <tr>\n",
       "      <th>50%</th>\n",
       "      <td>45008.000000</td>\n",
       "    </tr>\n",
       "    <tr>\n",
       "      <th>75%</th>\n",
       "      <td>45081.000000</td>\n",
       "    </tr>\n",
       "    <tr>\n",
       "      <th>max</th>\n",
       "      <td>45177.000000</td>\n",
       "    </tr>\n",
       "  </tbody>\n",
       "</table>\n",
       "</div>"
      ],
      "text/plain": [
       "              MILES\n",
       "count    161.000000\n",
       "mean   37766.519255\n",
       "std    16614.925558\n",
       "min        0.800000\n",
       "25%    44931.000000\n",
       "50%    45008.000000\n",
       "75%    45081.000000\n",
       "max    45177.000000"
      ]
     },
     "execution_count": 3,
     "metadata": {},
     "output_type": "execute_result"
    }
   ],
   "source": [
    "drivers.describe()"
   ]
  },
  {
   "cell_type": "markdown",
   "metadata": {
    "id": "R5jE5vgbH1N3"
   },
   "source": [
    "Выводятся названия столбцов с помощью `columns`."
   ]
  },
  {
   "cell_type": "code",
   "execution_count": 4,
   "metadata": {
    "colab": {
     "base_uri": "https://localhost:8080/"
    },
    "executionInfo": {
     "elapsed": 517,
     "status": "ok",
     "timestamp": 1725840692495,
     "user": {
      "displayName": "Sherzod Mahkamov",
      "userId": "09824302253636367451"
     },
     "user_tz": -180
    },
    "id": "UNC4OJhWED8W",
    "outputId": "3de0b413-8536-4b83-8015-1cdb64999837"
   },
   "outputs": [
    {
     "data": {
      "text/plain": [
       "Index(['START_DATE', 'END_DATE', 'CATEGORY*', 'START', 'STOP', 'MILES',\n",
       "       'PURPOSEroute'],\n",
       "      dtype='object')"
      ]
     },
     "execution_count": 4,
     "metadata": {},
     "output_type": "execute_result"
    }
   ],
   "source": [
    "drivers.columns"
   ]
  },
  {
   "cell_type": "markdown",
   "metadata": {
    "id": "Y7LFGCP3H7P9"
   },
   "source": [
    "Все заголовки переводятся в нижний регистр, с использованием `lower()`. Затем необходимо переименовать заголовки методом `rename()`, чтобы привести их к \"верблюжьему\" регистру и убрать лишние символы.\n",
    "\n",
    "Выводятся названия столбцов для проверки."
   ]
  },
  {
   "cell_type": "code",
   "execution_count": 5,
   "metadata": {
    "colab": {
     "base_uri": "https://localhost:8080/"
    },
    "executionInfo": {
     "elapsed": 318,
     "status": "ok",
     "timestamp": 1726072028977,
     "user": {
      "displayName": "Sherzod Mahkamov",
      "userId": "09824302253636367451"
     },
     "user_tz": -180
    },
    "id": "ZyfAq7EaEgVE",
    "outputId": "bce3a220-9596-479a-a65c-c267aaecae02"
   },
   "outputs": [
    {
     "data": {
      "text/plain": [
       "Index(['startDate', 'endDate', 'category', 'start', 'stop', 'miles',\n",
       "       'purposeRoute'],\n",
       "      dtype='object')"
      ]
     },
     "execution_count": 5,
     "metadata": {},
     "output_type": "execute_result"
    }
   ],
   "source": [
    "drivers.columns = drivers.columns.str.lower()\n",
    "\n",
    "drivers = drivers.rename(columns={\n",
    "    'start_date':'startDate',\n",
    "    'end_date':'endDate',\n",
    "    'category*':'category',\n",
    "    'purposeroute':'purposeRoute'\n",
    "})\n",
    "\n",
    "drivers.columns"
   ]
  },
  {
   "cell_type": "markdown",
   "metadata": {
    "id": "AbAphNAALBfS"
   },
   "source": [
    "Делается подсчет кол-ва пропусков в каждом столбце. Пропуски имеются только в столбце `purposeRoute`."
   ]
  },
  {
   "cell_type": "code",
   "execution_count": 6,
   "metadata": {
    "colab": {
     "base_uri": "https://localhost:8080/",
     "height": 300
    },
    "executionInfo": {
     "elapsed": 411,
     "status": "ok",
     "timestamp": 1725842284827,
     "user": {
      "displayName": "Sherzod Mahkamov",
      "userId": "09824302253636367451"
     },
     "user_tz": -180
    },
    "id": "mnTV8u3kKBdU",
    "outputId": "e71b21e8-3035-4fcd-f0e5-7f012e7e8805"
   },
   "outputs": [
    {
     "data": {
      "text/plain": [
       "startDate        0\n",
       "endDate          0\n",
       "category         0\n",
       "start            0\n",
       "stop             0\n",
       "miles            0\n",
       "purposeRoute    77\n",
       "dtype: int64"
      ]
     },
     "execution_count": 6,
     "metadata": {},
     "output_type": "execute_result"
    }
   ],
   "source": [
    "drivers.isna().sum()"
   ]
  },
  {
   "cell_type": "markdown",
   "metadata": {
    "id": "Ze3qUv3ULTZR"
   },
   "source": [
    "Так как в случае анализа оборота заказов в такси и других целей будут необходимы данные строки, будет нерационально удалять их, вместо этого пустые строки заполняются текстом `other`, так как они несущественно влияют на анализ.\n",
    "\n",
    "Для проверки выводятся первые 20 строк датасета."
   ]
  },
  {
   "cell_type": "code",
   "execution_count": 7,
   "metadata": {
    "colab": {
     "base_uri": "https://localhost:8080/",
     "height": 669
    },
    "executionInfo": {
     "elapsed": 352,
     "status": "ok",
     "timestamp": 1726072059418,
     "user": {
      "displayName": "Sherzod Mahkamov",
      "userId": "09824302253636367451"
     },
     "user_tz": -180
    },
    "id": "jrrcBI_KMmcL",
    "outputId": "161d5624-dad8-4d6f-822d-72945d5c8c6b"
   },
   "outputs": [
    {
     "data": {
      "text/html": [
       "<div>\n",
       "<style scoped>\n",
       "    .dataframe tbody tr th:only-of-type {\n",
       "        vertical-align: middle;\n",
       "    }\n",
       "\n",
       "    .dataframe tbody tr th {\n",
       "        vertical-align: top;\n",
       "    }\n",
       "\n",
       "    .dataframe thead th {\n",
       "        text-align: right;\n",
       "    }\n",
       "</style>\n",
       "<table border=\"1\" class=\"dataframe\">\n",
       "  <thead>\n",
       "    <tr style=\"text-align: right;\">\n",
       "      <th></th>\n",
       "      <th>startDate</th>\n",
       "      <th>endDate</th>\n",
       "      <th>category</th>\n",
       "      <th>start</th>\n",
       "      <th>stop</th>\n",
       "      <th>miles</th>\n",
       "      <th>purposeRoute</th>\n",
       "    </tr>\n",
       "  </thead>\n",
       "  <tbody>\n",
       "    <tr>\n",
       "      <th>0</th>\n",
       "      <td>01.10.2016 19:12</td>\n",
       "      <td>01.10.2016 19:32</td>\n",
       "      <td>Business</td>\n",
       "      <td>Midtown</td>\n",
       "      <td>East Harlem</td>\n",
       "      <td>44963.0</td>\n",
       "      <td>MEETING</td>\n",
       "    </tr>\n",
       "    <tr>\n",
       "      <th>1</th>\n",
       "      <td>01.11.2016 13:32</td>\n",
       "      <td>01.11.2016 13:46</td>\n",
       "      <td>Business</td>\n",
       "      <td>Midtown</td>\n",
       "      <td>Midtown East</td>\n",
       "      <td>45108.0</td>\n",
       "      <td>Meal/Entertain</td>\n",
       "    </tr>\n",
       "    <tr>\n",
       "      <th>2</th>\n",
       "      <td>01.12.2016 12:33</td>\n",
       "      <td>01.12.2016 12:49</td>\n",
       "      <td>Business</td>\n",
       "      <td>Midtown</td>\n",
       "      <td>Hudson Square</td>\n",
       "      <td>45170.0</td>\n",
       "      <td>Meal/Entertain</td>\n",
       "    </tr>\n",
       "    <tr>\n",
       "      <th>3</th>\n",
       "      <td>1.13.2016 15:00</td>\n",
       "      <td>1.13.2016 15:28</td>\n",
       "      <td>Business</td>\n",
       "      <td>Gulfton</td>\n",
       "      <td>Downtown</td>\n",
       "      <td>45149.0</td>\n",
       "      <td>Meeting</td>\n",
       "    </tr>\n",
       "    <tr>\n",
       "      <th>4</th>\n",
       "      <td>1.29.2016 21:21</td>\n",
       "      <td>1.29.2016 21:40</td>\n",
       "      <td>Business</td>\n",
       "      <td>Apex</td>\n",
       "      <td>Cary</td>\n",
       "      <td>45051.0</td>\n",
       "      <td>Meal/Entertain</td>\n",
       "    </tr>\n",
       "    <tr>\n",
       "      <th>5</th>\n",
       "      <td>1.30.2016 18:09</td>\n",
       "      <td>1.30.2016 18:24</td>\n",
       "      <td>Business</td>\n",
       "      <td>Apex</td>\n",
       "      <td>Cary</td>\n",
       "      <td>45112.0</td>\n",
       "      <td>Customer Visit</td>\n",
       "    </tr>\n",
       "    <tr>\n",
       "      <th>6</th>\n",
       "      <td>02.01.2016 12:10</td>\n",
       "      <td>02.01.2016 12:43</td>\n",
       "      <td>Business</td>\n",
       "      <td>Chapel Hill</td>\n",
       "      <td>Cary</td>\n",
       "      <td>45008.0</td>\n",
       "      <td>Customer Visit</td>\n",
       "    </tr>\n",
       "    <tr>\n",
       "      <th>7</th>\n",
       "      <td>02.04.2016 9:37</td>\n",
       "      <td>02.04.2016 10:09</td>\n",
       "      <td>Business</td>\n",
       "      <td>Morrisville</td>\n",
       "      <td>Cary</td>\n",
       "      <td>45116.0</td>\n",
       "      <td>Meal/Entertain</td>\n",
       "    </tr>\n",
       "    <tr>\n",
       "      <th>8</th>\n",
       "      <td>02.07.2016 18:03</td>\n",
       "      <td>02.07.2016 18:17</td>\n",
       "      <td>Business</td>\n",
       "      <td>Apex</td>\n",
       "      <td>Cary</td>\n",
       "      <td>45112.0</td>\n",
       "      <td>Customer Visit</td>\n",
       "    </tr>\n",
       "    <tr>\n",
       "      <th>9</th>\n",
       "      <td>02.07.2016 20:22</td>\n",
       "      <td>02.07.2016 20:40</td>\n",
       "      <td>Business</td>\n",
       "      <td>Morrisville</td>\n",
       "      <td>Cary</td>\n",
       "      <td>44932.0</td>\n",
       "      <td>Meeting</td>\n",
       "    </tr>\n",
       "    <tr>\n",
       "      <th>10</th>\n",
       "      <td>02.09.2016 20:24</td>\n",
       "      <td>02.09.2016 20:40</td>\n",
       "      <td>Business</td>\n",
       "      <td>Morrisville</td>\n",
       "      <td>Cary</td>\n",
       "      <td>44932.0</td>\n",
       "      <td>Meal/Entertain</td>\n",
       "    </tr>\n",
       "    <tr>\n",
       "      <th>11</th>\n",
       "      <td>02.11.2016 20:36</td>\n",
       "      <td>02.11.2016 20:51</td>\n",
       "      <td>Business</td>\n",
       "      <td>Morrisville</td>\n",
       "      <td>Cary</td>\n",
       "      <td>44932.0</td>\n",
       "      <td>Temporary Site</td>\n",
       "    </tr>\n",
       "    <tr>\n",
       "      <th>12</th>\n",
       "      <td>02.12.2016 11:14</td>\n",
       "      <td>02.12.2016 11:35</td>\n",
       "      <td>Business</td>\n",
       "      <td>Morrisville</td>\n",
       "      <td>Raleigh</td>\n",
       "      <td>17.0</td>\n",
       "      <td>Customer Visit</td>\n",
       "    </tr>\n",
       "    <tr>\n",
       "      <th>13</th>\n",
       "      <td>02.12.2016 15:33</td>\n",
       "      <td>02.12.2016 16:06</td>\n",
       "      <td>Business</td>\n",
       "      <td>Morrisville</td>\n",
       "      <td>Cary</td>\n",
       "      <td>45057.0</td>\n",
       "      <td>Customer Visit</td>\n",
       "    </tr>\n",
       "    <tr>\n",
       "      <th>14</th>\n",
       "      <td>2.14.2016 14:46</td>\n",
       "      <td>2.14.2016 15:03</td>\n",
       "      <td>Business</td>\n",
       "      <td>Midtown</td>\n",
       "      <td>Midtown West</td>\n",
       "      <td>2.0</td>\n",
       "      <td>Meeting</td>\n",
       "    </tr>\n",
       "    <tr>\n",
       "      <th>15</th>\n",
       "      <td>2.16.2016 10:31</td>\n",
       "      <td>2.16.2016 10:41</td>\n",
       "      <td>BUSINESS</td>\n",
       "      <td>Colombo</td>\n",
       "      <td>Colombo</td>\n",
       "      <td>45079.0</td>\n",
       "      <td>Other</td>\n",
       "    </tr>\n",
       "    <tr>\n",
       "      <th>16</th>\n",
       "      <td>2.16.2016 11:32</td>\n",
       "      <td>2.16.2016 12:02</td>\n",
       "      <td>Business</td>\n",
       "      <td>Colombo</td>\n",
       "      <td>Colombo</td>\n",
       "      <td>45050.0</td>\n",
       "      <td>Other</td>\n",
       "    </tr>\n",
       "    <tr>\n",
       "      <th>17</th>\n",
       "      <td>2.16.2016 12:39</td>\n",
       "      <td>2.16.2016 12:42</td>\n",
       "      <td>Business</td>\n",
       "      <td>Colombo</td>\n",
       "      <td>Colombo</td>\n",
       "      <td>45108.0</td>\n",
       "      <td>Other</td>\n",
       "    </tr>\n",
       "    <tr>\n",
       "      <th>18</th>\n",
       "      <td>2.16.2016 13:43</td>\n",
       "      <td>2.16.2016 13:55</td>\n",
       "      <td>BUSINESS</td>\n",
       "      <td>Colombo</td>\n",
       "      <td>Colombo</td>\n",
       "      <td>45139.0</td>\n",
       "      <td>Temporary Site</td>\n",
       "    </tr>\n",
       "    <tr>\n",
       "      <th>19</th>\n",
       "      <td>2.16.2016 16:34</td>\n",
       "      <td>2.16.2016 17:10</td>\n",
       "      <td>Business</td>\n",
       "      <td>Colombo</td>\n",
       "      <td>Colombo</td>\n",
       "      <td>6.0</td>\n",
       "      <td>Other</td>\n",
       "    </tr>\n",
       "  </tbody>\n",
       "</table>\n",
       "</div>"
      ],
      "text/plain": [
       "           startDate           endDate  category        start           stop  \\\n",
       "0   01.10.2016 19:12  01.10.2016 19:32  Business      Midtown    East Harlem   \n",
       "1   01.11.2016 13:32  01.11.2016 13:46  Business      Midtown   Midtown East   \n",
       "2   01.12.2016 12:33  01.12.2016 12:49  Business      Midtown  Hudson Square   \n",
       "3    1.13.2016 15:00   1.13.2016 15:28  Business      Gulfton       Downtown   \n",
       "4    1.29.2016 21:21   1.29.2016 21:40  Business         Apex           Cary   \n",
       "5    1.30.2016 18:09   1.30.2016 18:24  Business         Apex           Cary   \n",
       "6   02.01.2016 12:10  02.01.2016 12:43  Business  Chapel Hill           Cary   \n",
       "7    02.04.2016 9:37  02.04.2016 10:09  Business  Morrisville           Cary   \n",
       "8   02.07.2016 18:03  02.07.2016 18:17  Business         Apex           Cary   \n",
       "9   02.07.2016 20:22  02.07.2016 20:40  Business  Morrisville           Cary   \n",
       "10  02.09.2016 20:24  02.09.2016 20:40  Business  Morrisville           Cary   \n",
       "11  02.11.2016 20:36  02.11.2016 20:51  Business  Morrisville           Cary   \n",
       "12  02.12.2016 11:14  02.12.2016 11:35  Business  Morrisville        Raleigh   \n",
       "13  02.12.2016 15:33  02.12.2016 16:06  Business  Morrisville           Cary   \n",
       "14   2.14.2016 14:46   2.14.2016 15:03  Business      Midtown   Midtown West   \n",
       "15   2.16.2016 10:31   2.16.2016 10:41  BUSINESS      Colombo        Colombo   \n",
       "16   2.16.2016 11:32   2.16.2016 12:02  Business      Colombo        Colombo   \n",
       "17   2.16.2016 12:39   2.16.2016 12:42  Business      Colombo        Colombo   \n",
       "18   2.16.2016 13:43   2.16.2016 13:55  BUSINESS      Colombo        Colombo   \n",
       "19   2.16.2016 16:34   2.16.2016 17:10  Business      Colombo        Colombo   \n",
       "\n",
       "      miles    purposeRoute  \n",
       "0   44963.0         MEETING  \n",
       "1   45108.0  Meal/Entertain  \n",
       "2   45170.0  Meal/Entertain  \n",
       "3   45149.0         Meeting  \n",
       "4   45051.0  Meal/Entertain  \n",
       "5   45112.0  Customer Visit  \n",
       "6   45008.0  Customer Visit  \n",
       "7   45116.0  Meal/Entertain  \n",
       "8   45112.0  Customer Visit  \n",
       "9   44932.0         Meeting  \n",
       "10  44932.0  Meal/Entertain  \n",
       "11  44932.0  Temporary Site  \n",
       "12     17.0  Customer Visit  \n",
       "13  45057.0  Customer Visit  \n",
       "14      2.0         Meeting  \n",
       "15  45079.0           Other  \n",
       "16  45050.0           Other  \n",
       "17  45108.0           Other  \n",
       "18  45139.0  Temporary Site  \n",
       "19      6.0           Other  "
      ]
     },
     "execution_count": 7,
     "metadata": {},
     "output_type": "execute_result"
    }
   ],
   "source": [
    "drivers['purposeRoute'] = drivers['purposeRoute'].fillna('Other')\n",
    "drivers.head(20)"
   ]
  },
  {
   "cell_type": "markdown",
   "metadata": {
    "id": "oh2aljR6OU9A"
   },
   "source": [
    "Производится проверка на наличие пустых ячеек."
   ]
  },
  {
   "cell_type": "code",
   "execution_count": 8,
   "metadata": {
    "colab": {
     "base_uri": "https://localhost:8080/",
     "height": 300
    },
    "executionInfo": {
     "elapsed": 348,
     "status": "ok",
     "timestamp": 1725874685686,
     "user": {
      "displayName": "Sherzod Mahkamov",
      "userId": "09824302253636367451"
     },
     "user_tz": -180
    },
    "id": "YUwNJ3_FOCVS",
    "outputId": "f3d47750-2bc0-44c7-f67a-a9c74eef5583"
   },
   "outputs": [
    {
     "data": {
      "text/plain": [
       "startDate       0\n",
       "endDate         0\n",
       "category        0\n",
       "start           0\n",
       "stop            0\n",
       "miles           0\n",
       "purposeRoute    0\n",
       "dtype: int64"
      ]
     },
     "execution_count": 8,
     "metadata": {},
     "output_type": "execute_result"
    }
   ],
   "source": [
    "drivers.isna().sum()"
   ]
  },
  {
   "cell_type": "markdown",
   "metadata": {
    "id": "kw-SSjq1LPcp"
   },
   "source": [
    "Производится проверка на наличие явных дубликатов и выводится их количество."
   ]
  },
  {
   "cell_type": "code",
   "execution_count": 9,
   "metadata": {
    "colab": {
     "base_uri": "https://localhost:8080/"
    },
    "executionInfo": {
     "elapsed": 448,
     "status": "ok",
     "timestamp": 1725875028165,
     "user": {
      "displayName": "Sherzod Mahkamov",
      "userId": "09824302253636367451"
     },
     "user_tz": -180
    },
    "id": "7iDfNnH-KsnB",
    "outputId": "f13a6b1c-d9a3-4fea-8829-b56074a2a25a"
   },
   "outputs": [
    {
     "data": {
      "text/plain": [
       "2"
      ]
     },
     "execution_count": 9,
     "metadata": {},
     "output_type": "execute_result"
    }
   ],
   "source": [
    "drivers.duplicated().sum()"
   ]
  },
  {
   "cell_type": "markdown",
   "metadata": {
    "id": "qTaMHp5nLaG0"
   },
   "source": [
    "Дублирующиеся строки удаляются и и проводится проверка правильности удаления.\n",
    "\n",
    "Чтобы не было пропусков производится обновление индексации, устанавливается аргумент `drop = True`, чтобы не создавался столбец `Index`.\n",
    "\n",
    "Данные выводятся для проверки."
   ]
  },
  {
   "cell_type": "code",
   "execution_count": 10,
   "metadata": {
    "colab": {
     "base_uri": "https://localhost:8080/",
     "height": 436
    },
    "executionInfo": {
     "elapsed": 383,
     "status": "ok",
     "timestamp": 1726072120919,
     "user": {
      "displayName": "Sherzod Mahkamov",
      "userId": "09824302253636367451"
     },
     "user_tz": -180
    },
    "id": "Jgu7ex3aK7YP",
    "outputId": "51fd611d-49b0-420e-9367-681ea88d94fa"
   },
   "outputs": [
    {
     "name": "stdout",
     "output_type": "stream",
     "text": [
      "0\n"
     ]
    },
    {
     "data": {
      "text/html": [
       "<div>\n",
       "<style scoped>\n",
       "    .dataframe tbody tr th:only-of-type {\n",
       "        vertical-align: middle;\n",
       "    }\n",
       "\n",
       "    .dataframe tbody tr th {\n",
       "        vertical-align: top;\n",
       "    }\n",
       "\n",
       "    .dataframe thead th {\n",
       "        text-align: right;\n",
       "    }\n",
       "</style>\n",
       "<table border=\"1\" class=\"dataframe\">\n",
       "  <thead>\n",
       "    <tr style=\"text-align: right;\">\n",
       "      <th></th>\n",
       "      <th>startDate</th>\n",
       "      <th>endDate</th>\n",
       "      <th>category</th>\n",
       "      <th>start</th>\n",
       "      <th>stop</th>\n",
       "      <th>miles</th>\n",
       "      <th>purposeRoute</th>\n",
       "    </tr>\n",
       "  </thead>\n",
       "  <tbody>\n",
       "    <tr>\n",
       "      <th>0</th>\n",
       "      <td>01.10.2016 19:12</td>\n",
       "      <td>01.10.2016 19:32</td>\n",
       "      <td>Business</td>\n",
       "      <td>Midtown</td>\n",
       "      <td>East Harlem</td>\n",
       "      <td>44963.0</td>\n",
       "      <td>MEETING</td>\n",
       "    </tr>\n",
       "    <tr>\n",
       "      <th>1</th>\n",
       "      <td>01.11.2016 13:32</td>\n",
       "      <td>01.11.2016 13:46</td>\n",
       "      <td>Business</td>\n",
       "      <td>Midtown</td>\n",
       "      <td>Midtown East</td>\n",
       "      <td>45108.0</td>\n",
       "      <td>Meal/Entertain</td>\n",
       "    </tr>\n",
       "    <tr>\n",
       "      <th>2</th>\n",
       "      <td>01.12.2016 12:33</td>\n",
       "      <td>01.12.2016 12:49</td>\n",
       "      <td>Business</td>\n",
       "      <td>Midtown</td>\n",
       "      <td>Hudson Square</td>\n",
       "      <td>45170.0</td>\n",
       "      <td>Meal/Entertain</td>\n",
       "    </tr>\n",
       "    <tr>\n",
       "      <th>3</th>\n",
       "      <td>1.13.2016 15:00</td>\n",
       "      <td>1.13.2016 15:28</td>\n",
       "      <td>Business</td>\n",
       "      <td>Gulfton</td>\n",
       "      <td>Downtown</td>\n",
       "      <td>45149.0</td>\n",
       "      <td>Meeting</td>\n",
       "    </tr>\n",
       "    <tr>\n",
       "      <th>4</th>\n",
       "      <td>1.29.2016 21:21</td>\n",
       "      <td>1.29.2016 21:40</td>\n",
       "      <td>Business</td>\n",
       "      <td>Apex</td>\n",
       "      <td>Cary</td>\n",
       "      <td>45051.0</td>\n",
       "      <td>Meal/Entertain</td>\n",
       "    </tr>\n",
       "    <tr>\n",
       "      <th>...</th>\n",
       "      <td>...</td>\n",
       "      <td>...</td>\n",
       "      <td>...</td>\n",
       "      <td>...</td>\n",
       "      <td>...</td>\n",
       "      <td>...</td>\n",
       "      <td>...</td>\n",
       "    </tr>\n",
       "    <tr>\n",
       "      <th>154</th>\n",
       "      <td>12.09.2016 13:15</td>\n",
       "      <td>12.09.2016 13:43</td>\n",
       "      <td>Business</td>\n",
       "      <td>Apex</td>\n",
       "      <td>Cary</td>\n",
       "      <td>45146.0</td>\n",
       "      <td>Temporary Site</td>\n",
       "    </tr>\n",
       "    <tr>\n",
       "      <th>155</th>\n",
       "      <td>12.10.2016 22:09</td>\n",
       "      <td>12.10.2016 22:21</td>\n",
       "      <td>Business</td>\n",
       "      <td>Morrisville</td>\n",
       "      <td>Cary</td>\n",
       "      <td>44929.0</td>\n",
       "      <td>Customer Visit</td>\n",
       "    </tr>\n",
       "    <tr>\n",
       "      <th>156</th>\n",
       "      <td>12.12.2016 14:26</td>\n",
       "      <td>12.12.2016 14:39</td>\n",
       "      <td>Business</td>\n",
       "      <td>Apex</td>\n",
       "      <td>Cary</td>\n",
       "      <td>45111.0</td>\n",
       "      <td>Customer Visit</td>\n",
       "    </tr>\n",
       "    <tr>\n",
       "      <th>157</th>\n",
       "      <td>12.12.2016 20:48</td>\n",
       "      <td>12.12.2016 20:57</td>\n",
       "      <td>Business</td>\n",
       "      <td>Morrisville</td>\n",
       "      <td>Cary</td>\n",
       "      <td>3.0</td>\n",
       "      <td>Customer Visit</td>\n",
       "    </tr>\n",
       "    <tr>\n",
       "      <th>158</th>\n",
       "      <td>12.14.2016 20:24</td>\n",
       "      <td>12.14.2016 20:40</td>\n",
       "      <td>Business</td>\n",
       "      <td>Morrisville</td>\n",
       "      <td>Cary</td>\n",
       "      <td>44929.0</td>\n",
       "      <td>Customer Visit</td>\n",
       "    </tr>\n",
       "  </tbody>\n",
       "</table>\n",
       "<p>159 rows × 7 columns</p>\n",
       "</div>"
      ],
      "text/plain": [
       "            startDate           endDate  category        start           stop  \\\n",
       "0    01.10.2016 19:12  01.10.2016 19:32  Business      Midtown    East Harlem   \n",
       "1    01.11.2016 13:32  01.11.2016 13:46  Business      Midtown   Midtown East   \n",
       "2    01.12.2016 12:33  01.12.2016 12:49  Business      Midtown  Hudson Square   \n",
       "3     1.13.2016 15:00   1.13.2016 15:28  Business      Gulfton       Downtown   \n",
       "4     1.29.2016 21:21   1.29.2016 21:40  Business         Apex           Cary   \n",
       "..                ...               ...       ...          ...            ...   \n",
       "154  12.09.2016 13:15  12.09.2016 13:43  Business         Apex           Cary   \n",
       "155  12.10.2016 22:09  12.10.2016 22:21  Business  Morrisville           Cary   \n",
       "156  12.12.2016 14:26  12.12.2016 14:39  Business         Apex           Cary   \n",
       "157  12.12.2016 20:48  12.12.2016 20:57  Business  Morrisville           Cary   \n",
       "158  12.14.2016 20:24  12.14.2016 20:40  Business  Morrisville           Cary   \n",
       "\n",
       "       miles    purposeRoute  \n",
       "0    44963.0         MEETING  \n",
       "1    45108.0  Meal/Entertain  \n",
       "2    45170.0  Meal/Entertain  \n",
       "3    45149.0         Meeting  \n",
       "4    45051.0  Meal/Entertain  \n",
       "..       ...             ...  \n",
       "154  45146.0  Temporary Site  \n",
       "155  44929.0  Customer Visit  \n",
       "156  45111.0  Customer Visit  \n",
       "157      3.0  Customer Visit  \n",
       "158  44929.0  Customer Visit  \n",
       "\n",
       "[159 rows x 7 columns]"
      ]
     },
     "execution_count": 10,
     "metadata": {},
     "output_type": "execute_result"
    }
   ],
   "source": [
    "drivers = drivers.drop_duplicates()\n",
    "print(drivers.duplicated().sum())\n",
    "\n",
    "drivers = drivers.reset_index(drop=True)\n",
    "\n",
    "drivers"
   ]
  },
  {
   "cell_type": "markdown",
   "metadata": {
    "id": "PTYPHunpNBSj"
   },
   "source": [
    "Происходит проверка данных на наличие неявных дубликатов, для этого используется метод `unique()` для столбцов `category` и `purposeRoute`, которые имеют категориальные переменные.\n",
    "\n",
    "Столбцы `startTime`, `endTime` и `miles` могут повторяться, а `start` и `stop` по условию можно не проверять на неявные дубликаты, поэтому данные столбцы не обрабатываются."
   ]
  },
  {
   "cell_type": "code",
   "execution_count": 11,
   "metadata": {
    "colab": {
     "base_uri": "https://localhost:8080/"
    },
    "executionInfo": {
     "elapsed": 448,
     "status": "ok",
     "timestamp": 1725876163956,
     "user": {
      "displayName": "Sherzod Mahkamov",
      "userId": "09824302253636367451"
     },
     "user_tz": -180
    },
    "id": "lV0hpIDrO2xr",
    "outputId": "ebd04620-9ebd-40eb-a8b5-fad888906d2a"
   },
   "outputs": [
    {
     "name": "stdout",
     "output_type": "stream",
     "text": [
      "['Business' 'BUSINESS' 'Personal']\n",
      "['MEETING' 'Meal/Entertain' 'Meeting' 'Customer Visit' 'Temporary Site'\n",
      " 'Other' 'Moving']\n"
     ]
    }
   ],
   "source": [
    "print(drivers['category'].unique())\n",
    "print(drivers['purposeRoute'].unique())"
   ]
  },
  {
   "cell_type": "markdown",
   "metadata": {
    "id": "g8KQhdSLPHpq"
   },
   "source": [
    "Наблюдаются повторяющиеся элементы в обоих столбцах. Это исправляется путем задания им одинаковых имен. Код сразу проверяется на правильность."
   ]
  },
  {
   "cell_type": "code",
   "execution_count": 12,
   "metadata": {
    "colab": {
     "base_uri": "https://localhost:8080/"
    },
    "executionInfo": {
     "elapsed": 332,
     "status": "ok",
     "timestamp": 1726072126627,
     "user": {
      "displayName": "Sherzod Mahkamov",
      "userId": "09824302253636367451"
     },
     "user_tz": -180
    },
    "id": "CSeIFbIkJxa6",
    "outputId": "b548d8ad-44b0-4253-f729-76df59f05682"
   },
   "outputs": [
    {
     "name": "stdout",
     "output_type": "stream",
     "text": [
      "['Business' 'Personal']\n",
      "['Meeting' 'Meal/Entertain' 'Customer Visit' 'Temporary Site' 'Other'\n",
      " 'Moving']\n"
     ]
    }
   ],
   "source": [
    "drivers['category'] = drivers['category'].replace('BUSINESS','Business')\n",
    "drivers['purposeRoute'] = drivers['purposeRoute'].replace('MEETING','Meeting')\n",
    "\n",
    "print(drivers['category'].unique())\n",
    "print(drivers['purposeRoute'].unique())"
   ]
  },
  {
   "cell_type": "markdown",
   "metadata": {
    "id": "9ENXInPHSZ4A"
   },
   "source": [
    "Вывод информации о датасете."
   ]
  },
  {
   "cell_type": "code",
   "execution_count": 13,
   "metadata": {
    "colab": {
     "base_uri": "https://localhost:8080/"
    },
    "executionInfo": {
     "elapsed": 390,
     "status": "ok",
     "timestamp": 1725876728645,
     "user": {
      "displayName": "Sherzod Mahkamov",
      "userId": "09824302253636367451"
     },
     "user_tz": -180
    },
    "id": "azQpUFGTPFsH",
    "outputId": "6754c290-edc3-4123-9bd5-3ccb99381c13"
   },
   "outputs": [
    {
     "name": "stdout",
     "output_type": "stream",
     "text": [
      "<class 'pandas.core.frame.DataFrame'>\n",
      "RangeIndex: 159 entries, 0 to 158\n",
      "Data columns (total 7 columns):\n",
      " #   Column        Non-Null Count  Dtype  \n",
      "---  ------        --------------  -----  \n",
      " 0   startDate     159 non-null    object \n",
      " 1   endDate       159 non-null    object \n",
      " 2   category      159 non-null    object \n",
      " 3   start         159 non-null    object \n",
      " 4   stop          159 non-null    object \n",
      " 5   miles         159 non-null    float64\n",
      " 6   purposeRoute  159 non-null    object \n",
      "dtypes: float64(1), object(6)\n",
      "memory usage: 8.8+ KB\n"
     ]
    }
   ],
   "source": [
    "drivers.info()"
   ]
  },
  {
   "cell_type": "markdown",
   "metadata": {
    "id": "Rxl24phCRkp5"
   },
   "source": [
    "По выводу метода `info()` можно понять, что столбцы `startDate` и `endDate` не соотвутствуют своему типу данных. Они записаны в формате срок (`object`), а должны быть в формате даты (`datetime`). Это исправляется с помощью метода `to_datetime()`.\n",
    "\n",
    "Проверка правильности выполненных действий производится сразу."
   ]
  },
  {
   "cell_type": "code",
   "execution_count": 14,
   "metadata": {
    "colab": {
     "base_uri": "https://localhost:8080/",
     "height": 597
    },
    "executionInfo": {
     "elapsed": 306,
     "status": "ok",
     "timestamp": 1726072131132,
     "user": {
      "displayName": "Sherzod Mahkamov",
      "userId": "09824302253636367451"
     },
     "user_tz": -180
    },
    "id": "LGOkRLbfSYou",
    "outputId": "2ededc5b-61e8-460d-c962-3c3bd22932cb"
   },
   "outputs": [
    {
     "data": {
      "text/html": [
       "<div>\n",
       "<style scoped>\n",
       "    .dataframe tbody tr th:only-of-type {\n",
       "        vertical-align: middle;\n",
       "    }\n",
       "\n",
       "    .dataframe tbody tr th {\n",
       "        vertical-align: top;\n",
       "    }\n",
       "\n",
       "    .dataframe thead th {\n",
       "        text-align: right;\n",
       "    }\n",
       "</style>\n",
       "<table border=\"1\" class=\"dataframe\">\n",
       "  <thead>\n",
       "    <tr style=\"text-align: right;\">\n",
       "      <th></th>\n",
       "      <th>startDate</th>\n",
       "      <th>endDate</th>\n",
       "      <th>category</th>\n",
       "      <th>start</th>\n",
       "      <th>stop</th>\n",
       "      <th>miles</th>\n",
       "      <th>purposeRoute</th>\n",
       "    </tr>\n",
       "  </thead>\n",
       "  <tbody>\n",
       "    <tr>\n",
       "      <th>0</th>\n",
       "      <td>2016-01-10 19:12:00</td>\n",
       "      <td>2016-01-10 19:32:00</td>\n",
       "      <td>Business</td>\n",
       "      <td>Midtown</td>\n",
       "      <td>East Harlem</td>\n",
       "      <td>44963.0</td>\n",
       "      <td>Meeting</td>\n",
       "    </tr>\n",
       "    <tr>\n",
       "      <th>1</th>\n",
       "      <td>2016-01-11 13:32:00</td>\n",
       "      <td>2016-01-11 13:46:00</td>\n",
       "      <td>Business</td>\n",
       "      <td>Midtown</td>\n",
       "      <td>Midtown East</td>\n",
       "      <td>45108.0</td>\n",
       "      <td>Meal/Entertain</td>\n",
       "    </tr>\n",
       "    <tr>\n",
       "      <th>2</th>\n",
       "      <td>2016-01-12 12:33:00</td>\n",
       "      <td>2016-01-12 12:49:00</td>\n",
       "      <td>Business</td>\n",
       "      <td>Midtown</td>\n",
       "      <td>Hudson Square</td>\n",
       "      <td>45170.0</td>\n",
       "      <td>Meal/Entertain</td>\n",
       "    </tr>\n",
       "    <tr>\n",
       "      <th>3</th>\n",
       "      <td>2016-01-13 15:00:00</td>\n",
       "      <td>2016-01-13 15:28:00</td>\n",
       "      <td>Business</td>\n",
       "      <td>Gulfton</td>\n",
       "      <td>Downtown</td>\n",
       "      <td>45149.0</td>\n",
       "      <td>Meeting</td>\n",
       "    </tr>\n",
       "    <tr>\n",
       "      <th>4</th>\n",
       "      <td>2016-01-29 21:21:00</td>\n",
       "      <td>2016-01-29 21:40:00</td>\n",
       "      <td>Business</td>\n",
       "      <td>Apex</td>\n",
       "      <td>Cary</td>\n",
       "      <td>45051.0</td>\n",
       "      <td>Meal/Entertain</td>\n",
       "    </tr>\n",
       "    <tr>\n",
       "      <th>5</th>\n",
       "      <td>2016-01-30 18:09:00</td>\n",
       "      <td>2016-01-30 18:24:00</td>\n",
       "      <td>Business</td>\n",
       "      <td>Apex</td>\n",
       "      <td>Cary</td>\n",
       "      <td>45112.0</td>\n",
       "      <td>Customer Visit</td>\n",
       "    </tr>\n",
       "    <tr>\n",
       "      <th>6</th>\n",
       "      <td>2016-02-01 12:10:00</td>\n",
       "      <td>2016-02-01 12:43:00</td>\n",
       "      <td>Business</td>\n",
       "      <td>Chapel Hill</td>\n",
       "      <td>Cary</td>\n",
       "      <td>45008.0</td>\n",
       "      <td>Customer Visit</td>\n",
       "    </tr>\n",
       "    <tr>\n",
       "      <th>7</th>\n",
       "      <td>2016-02-04 09:37:00</td>\n",
       "      <td>2016-02-04 10:09:00</td>\n",
       "      <td>Business</td>\n",
       "      <td>Morrisville</td>\n",
       "      <td>Cary</td>\n",
       "      <td>45116.0</td>\n",
       "      <td>Meal/Entertain</td>\n",
       "    </tr>\n",
       "    <tr>\n",
       "      <th>8</th>\n",
       "      <td>2016-02-07 18:03:00</td>\n",
       "      <td>2016-02-07 18:17:00</td>\n",
       "      <td>Business</td>\n",
       "      <td>Apex</td>\n",
       "      <td>Cary</td>\n",
       "      <td>45112.0</td>\n",
       "      <td>Customer Visit</td>\n",
       "    </tr>\n",
       "    <tr>\n",
       "      <th>9</th>\n",
       "      <td>2016-02-07 20:22:00</td>\n",
       "      <td>2016-02-07 20:40:00</td>\n",
       "      <td>Business</td>\n",
       "      <td>Morrisville</td>\n",
       "      <td>Cary</td>\n",
       "      <td>44932.0</td>\n",
       "      <td>Meeting</td>\n",
       "    </tr>\n",
       "  </tbody>\n",
       "</table>\n",
       "</div>"
      ],
      "text/plain": [
       "            startDate             endDate  category        start  \\\n",
       "0 2016-01-10 19:12:00 2016-01-10 19:32:00  Business      Midtown   \n",
       "1 2016-01-11 13:32:00 2016-01-11 13:46:00  Business      Midtown   \n",
       "2 2016-01-12 12:33:00 2016-01-12 12:49:00  Business      Midtown   \n",
       "3 2016-01-13 15:00:00 2016-01-13 15:28:00  Business      Gulfton   \n",
       "4 2016-01-29 21:21:00 2016-01-29 21:40:00  Business         Apex   \n",
       "5 2016-01-30 18:09:00 2016-01-30 18:24:00  Business         Apex   \n",
       "6 2016-02-01 12:10:00 2016-02-01 12:43:00  Business  Chapel Hill   \n",
       "7 2016-02-04 09:37:00 2016-02-04 10:09:00  Business  Morrisville   \n",
       "8 2016-02-07 18:03:00 2016-02-07 18:17:00  Business         Apex   \n",
       "9 2016-02-07 20:22:00 2016-02-07 20:40:00  Business  Morrisville   \n",
       "\n",
       "            stop    miles    purposeRoute  \n",
       "0    East Harlem  44963.0         Meeting  \n",
       "1   Midtown East  45108.0  Meal/Entertain  \n",
       "2  Hudson Square  45170.0  Meal/Entertain  \n",
       "3       Downtown  45149.0         Meeting  \n",
       "4           Cary  45051.0  Meal/Entertain  \n",
       "5           Cary  45112.0  Customer Visit  \n",
       "6           Cary  45008.0  Customer Visit  \n",
       "7           Cary  45116.0  Meal/Entertain  \n",
       "8           Cary  45112.0  Customer Visit  \n",
       "9           Cary  44932.0         Meeting  "
      ]
     },
     "metadata": {},
     "output_type": "display_data"
    },
    {
     "name": "stdout",
     "output_type": "stream",
     "text": [
      "<class 'pandas.core.frame.DataFrame'>\n",
      "RangeIndex: 159 entries, 0 to 158\n",
      "Data columns (total 7 columns):\n",
      " #   Column        Non-Null Count  Dtype         \n",
      "---  ------        --------------  -----         \n",
      " 0   startDate     159 non-null    datetime64[ns]\n",
      " 1   endDate       159 non-null    datetime64[ns]\n",
      " 2   category      159 non-null    object        \n",
      " 3   start         159 non-null    object        \n",
      " 4   stop          159 non-null    object        \n",
      " 5   miles         159 non-null    float64       \n",
      " 6   purposeRoute  159 non-null    object        \n",
      "dtypes: datetime64[ns](2), float64(1), object(4)\n",
      "memory usage: 8.8+ KB\n"
     ]
    }
   ],
   "source": [
    "drivers['startDate'] = pd.to_datetime(drivers['startDate'], format='%m.%d.%Y %H:%M')\n",
    "drivers['endDate'] = pd.to_datetime(drivers['endDate'], format='%m.%d.%Y %H:%M')\n",
    "\n",
    "display(drivers.head(10))\n",
    "drivers.info()"
   ]
  },
  {
   "cell_type": "markdown",
   "metadata": {
    "id": "lJGcAOd9VWtx"
   },
   "source": [
    "Далее производится группировка и создание сводных таблиц."
   ]
  },
  {
   "cell_type": "markdown",
   "metadata": {
    "id": "Fckwhqaf1Q7q"
   },
   "source": [
    "**Задание 1:** Группировка - `category` и количество поездок каждого типа (по цели маршрута)."
   ]
  },
  {
   "cell_type": "code",
   "execution_count": 15,
   "metadata": {
    "colab": {
     "base_uri": "https://localhost:8080/",
     "height": 331
    },
    "executionInfo": {
     "elapsed": 7,
     "status": "ok",
     "timestamp": 1726052983174,
     "user": {
      "displayName": "Sherzod Mahkamov",
      "userId": "09824302253636367451"
     },
     "user_tz": -180
    },
    "id": "eytyP8lSWffc",
    "outputId": "09e04b30-6ce6-458f-a85c-10382af42269"
   },
   "outputs": [
    {
     "data": {
      "text/plain": [
       "category  purposeRoute  \n",
       "Business  Customer Visit    30\n",
       "          Meal/Entertain    34\n",
       "          Meeting           13\n",
       "          Other             67\n",
       "          Temporary Site     4\n",
       "Personal  Moving             1\n",
       "          Other             10\n",
       "dtype: int64"
      ]
     },
     "execution_count": 15,
     "metadata": {},
     "output_type": "execute_result"
    }
   ],
   "source": [
    "drivers.groupby(['category', 'purposeRoute']).size()"
   ]
  },
  {
   "cell_type": "markdown",
   "metadata": {
    "id": "eD5XGBXGwuN9"
   },
   "source": [
    "По результатам группировки можно сделать вывод, что больше всего поездок было по цели поездки \"Meal/Entertain\", а меньше всего по \"Moving\". Цель поездки \"Other\" не учитывается при анализе, так как информация по этому типу данных отсутствует.\n",
    "\n",
    "Также можно понять, что категорию \"Business\" используют чаще чем \"Personal\"."
   ]
  },
  {
   "cell_type": "markdown",
   "metadata": {
    "id": "Df1iwRyk1zjK"
   },
   "source": [
    "**Задание 2:** Группировка - `category` и количество поездок каждого типа (по цели маршрута). Создать датафрейм. Переименовать столбец с количеством в `count`. Отсортировать по убыванию столбца `count`."
   ]
  },
  {
   "cell_type": "code",
   "execution_count": 16,
   "metadata": {
    "colab": {
     "base_uri": "https://localhost:8080/",
     "height": 266
    },
    "executionInfo": {
     "elapsed": 328,
     "status": "ok",
     "timestamp": 1726048177349,
     "user": {
      "displayName": "Sherzod Mahkamov",
      "userId": "09824302253636367451"
     },
     "user_tz": -180
    },
    "id": "HRsERWBMcsvs",
    "outputId": "cd6e8088-d07b-4ed1-e505-7657eaa8f05f"
   },
   "outputs": [
    {
     "data": {
      "text/html": [
       "<div>\n",
       "<style scoped>\n",
       "    .dataframe tbody tr th:only-of-type {\n",
       "        vertical-align: middle;\n",
       "    }\n",
       "\n",
       "    .dataframe tbody tr th {\n",
       "        vertical-align: top;\n",
       "    }\n",
       "\n",
       "    .dataframe thead th {\n",
       "        text-align: right;\n",
       "    }\n",
       "</style>\n",
       "<table border=\"1\" class=\"dataframe\">\n",
       "  <thead>\n",
       "    <tr style=\"text-align: right;\">\n",
       "      <th></th>\n",
       "      <th>category</th>\n",
       "      <th>purposeRoute</th>\n",
       "      <th>count</th>\n",
       "    </tr>\n",
       "  </thead>\n",
       "  <tbody>\n",
       "    <tr>\n",
       "      <th>3</th>\n",
       "      <td>Business</td>\n",
       "      <td>Other</td>\n",
       "      <td>67</td>\n",
       "    </tr>\n",
       "    <tr>\n",
       "      <th>1</th>\n",
       "      <td>Business</td>\n",
       "      <td>Meal/Entertain</td>\n",
       "      <td>34</td>\n",
       "    </tr>\n",
       "    <tr>\n",
       "      <th>0</th>\n",
       "      <td>Business</td>\n",
       "      <td>Customer Visit</td>\n",
       "      <td>30</td>\n",
       "    </tr>\n",
       "    <tr>\n",
       "      <th>2</th>\n",
       "      <td>Business</td>\n",
       "      <td>Meeting</td>\n",
       "      <td>13</td>\n",
       "    </tr>\n",
       "    <tr>\n",
       "      <th>6</th>\n",
       "      <td>Personal</td>\n",
       "      <td>Other</td>\n",
       "      <td>10</td>\n",
       "    </tr>\n",
       "    <tr>\n",
       "      <th>4</th>\n",
       "      <td>Business</td>\n",
       "      <td>Temporary Site</td>\n",
       "      <td>4</td>\n",
       "    </tr>\n",
       "    <tr>\n",
       "      <th>5</th>\n",
       "      <td>Personal</td>\n",
       "      <td>Moving</td>\n",
       "      <td>1</td>\n",
       "    </tr>\n",
       "  </tbody>\n",
       "</table>\n",
       "</div>"
      ],
      "text/plain": [
       "   category    purposeRoute  count\n",
       "3  Business           Other     67\n",
       "1  Business  Meal/Entertain     34\n",
       "0  Business  Customer Visit     30\n",
       "2  Business         Meeting     13\n",
       "6  Personal           Other     10\n",
       "4  Business  Temporary Site      4\n",
       "5  Personal          Moving      1"
      ]
     },
     "metadata": {},
     "output_type": "display_data"
    }
   ],
   "source": [
    "df = drivers.groupby(['category', 'purposeRoute']).size().reset_index(name='count')\n",
    "df_sorted = df.sort_values(by='count', ascending=False)\n",
    "display(df_sorted)"
   ]
  },
  {
   "cell_type": "markdown",
   "metadata": {
    "id": "I04r5Z1LyWd6"
   },
   "source": [
    "По результатам группировки можно сделать те же выводы, что и по прошлой группировке, но здесь наглядно отображается список от больнего кол-ва поездок по конкретной цели до меньшего."
   ]
  },
  {
   "cell_type": "markdown",
   "metadata": {
    "id": "wJMSygT92EIW"
   },
   "source": [
    "**Задание 3:** Сводная таблица (`pivot_table`) - среднее количество пройденных миль по каждой цели поездки (`purposeRoute`). Отсортировать по убыванию столбца `miles`. Округлить значение до двух знаков."
   ]
  },
  {
   "cell_type": "code",
   "execution_count": 17,
   "metadata": {
    "colab": {
     "base_uri": "https://localhost:8080/",
     "height": 300
    },
    "executionInfo": {
     "elapsed": 392,
     "status": "ok",
     "timestamp": 1725882107211,
     "user": {
      "displayName": "Sherzod Mahkamov",
      "userId": "09824302253636367451"
     },
     "user_tz": -180
    },
    "id": "ipqCJeOlieaO",
    "outputId": "ef52820b-ac86-4d75-ca53-3b5abaf0e86f"
   },
   "outputs": [
    {
     "data": {
      "text/plain": [
       "purposeRoute\n",
       "Temporary Site    45063.50\n",
       "Moving            44932.00\n",
       "Meal/Entertain    41054.82\n",
       "Other             36859.20\n",
       "Customer Visit    36023.20\n",
       "Meeting           34646.85\n",
       "Name: miles, dtype: float64"
      ]
     },
     "execution_count": 17,
     "metadata": {},
     "output_type": "execute_result"
    }
   ],
   "source": [
    "drivers.pivot_table(index=['purposeRoute'],\n",
    "                    values='miles',\n",
    "                    aggfunc='mean').sort_values(by='miles', ascending=False)['miles'].round(2)\n"
   ]
  },
  {
   "cell_type": "markdown",
   "metadata": {
    "id": "EQduTfwGzUpG"
   },
   "source": [
    "По результатам сводной таблицы можно сделать вывод, что в среднем больше всего миль занимают поездки по цели \"Temporary Site\", а меньше всего \"Meeting\"."
   ]
  },
  {
   "cell_type": "markdown",
   "metadata": {
    "id": "2uqgM3sb2HP7"
   },
   "source": [
    "**Задание 4:** Сводная таблица (`pivot_table`) - среднее количество пройденных миль по каждой цели поездки (`purposeRoute`) - столбцы, и каждой категории - строки. Отсортировать по убыванию столбца `category`."
   ]
  },
  {
   "cell_type": "code",
   "execution_count": 18,
   "metadata": {
    "colab": {
     "base_uri": "https://localhost:8080/",
     "height": 142
    },
    "executionInfo": {
     "elapsed": 336,
     "status": "ok",
     "timestamp": 1725882646501,
     "user": {
      "displayName": "Sherzod Mahkamov",
      "userId": "09824302253636367451"
     },
     "user_tz": -180
    },
    "id": "bAVvhIPaie7G",
    "outputId": "623bcceb-1ef1-4fb7-9ecf-a6633424b7d8"
   },
   "outputs": [
    {
     "data": {
      "text/html": [
       "<div>\n",
       "<style scoped>\n",
       "    .dataframe tbody tr th:only-of-type {\n",
       "        vertical-align: middle;\n",
       "    }\n",
       "\n",
       "    .dataframe tbody tr th {\n",
       "        vertical-align: top;\n",
       "    }\n",
       "\n",
       "    .dataframe thead th {\n",
       "        text-align: right;\n",
       "    }\n",
       "</style>\n",
       "<table border=\"1\" class=\"dataframe\">\n",
       "  <thead>\n",
       "    <tr style=\"text-align: right;\">\n",
       "      <th>purposeRoute</th>\n",
       "      <th>Customer Visit</th>\n",
       "      <th>Meal/Entertain</th>\n",
       "      <th>Meeting</th>\n",
       "      <th>Moving</th>\n",
       "      <th>Other</th>\n",
       "      <th>Temporary Site</th>\n",
       "    </tr>\n",
       "    <tr>\n",
       "      <th>category</th>\n",
       "      <th></th>\n",
       "      <th></th>\n",
       "      <th></th>\n",
       "      <th></th>\n",
       "      <th></th>\n",
       "      <th></th>\n",
       "    </tr>\n",
       "  </thead>\n",
       "  <tbody>\n",
       "    <tr>\n",
       "      <th>Personal</th>\n",
       "      <td>NaN</td>\n",
       "      <td>NaN</td>\n",
       "      <td>NaN</td>\n",
       "      <td>44932.0</td>\n",
       "      <td>36035.000000</td>\n",
       "      <td>NaN</td>\n",
       "    </tr>\n",
       "    <tr>\n",
       "      <th>Business</th>\n",
       "      <td>36023.196667</td>\n",
       "      <td>41054.823529</td>\n",
       "      <td>34646.846154</td>\n",
       "      <td>NaN</td>\n",
       "      <td>36982.219403</td>\n",
       "      <td>45063.5</td>\n",
       "    </tr>\n",
       "  </tbody>\n",
       "</table>\n",
       "</div>"
      ],
      "text/plain": [
       "purposeRoute  Customer Visit  Meal/Entertain       Meeting   Moving  \\\n",
       "category                                                              \n",
       "Personal                 NaN             NaN           NaN  44932.0   \n",
       "Business        36023.196667    41054.823529  34646.846154      NaN   \n",
       "\n",
       "purposeRoute         Other  Temporary Site  \n",
       "category                                    \n",
       "Personal      36035.000000             NaN  \n",
       "Business      36982.219403         45063.5  "
      ]
     },
     "execution_count": 18,
     "metadata": {},
     "output_type": "execute_result"
    }
   ],
   "source": [
    "drivers.pivot_table(index=['category'],\n",
    "                    columns='purposeRoute',\n",
    "                    values='miles',\n",
    "                    aggfunc='mean').sort_values(by='category', ascending=False)"
   ]
  },
  {
   "cell_type": "markdown",
   "metadata": {
    "id": "imXwCTmTzv_4"
   },
   "source": [
    "По результатам сводной таблицы можно сделать те же выводы, что и по прошлой сводной таблице. \"NaN\" означает, что у данной категории не было поездок по данной цели."
   ]
  },
  {
   "cell_type": "markdown",
   "metadata": {
    "id": "GJKh3q0zrV8S"
   },
   "source": [
    "### Вывод по работе\n"
   ]
  },
  {
   "cell_type": "markdown",
   "metadata": {
    "id": "KUJbCdO7VhCA"
   },
   "source": [
    "В ходе выполнения лабораторной работы прошло ознакомление с интерфейсом `Google Colllab`, освоение основ обработки данных “csv”-файла посредством `Jupiter Notebook`. Были получены навыки выявления и устранения проблемы и ошибки в данных, добавления, удаления, изменения, сортировки и группировки данных, а также многое другое.\n",
    "\n",
    "По результатам проделанной работы можно сделать следующие выводы:\n",
    "- всего было обработано 169 заказов;\n",
    "- всего категорий поездок 2: \"Business\", \"Personal\";\n",
    "- чаще всего целью поездки является \"Meal/Entertain\" (34 поездки), после него по популярности идет \"Customer Visit\" (30 поездок), а меньше всего по \"Moving\" (не учитывалась цель \"Other\", потому что нет более подробной информации по этой цели);\n",
    "- категорию \"Bisness\" используют чаще чем \"Personal\";\n",
    "- большке всего миль было проехано на цель поездки \"Temporary Site\";\n",
    "- в среднем больше всего миль занимают поездки по цели \"Temporary Site\", а меньше всего \"Meeting\";\n",
    "- все поездки категории \"Personal\" имеют причины только \"Moving\" или \"Other\";\n",
    "- нет поездорк по причине \"Moving\" в категории \"Besiness\".\n"
   ]
  },
  {
   "cell_type": "markdown",
   "metadata": {
    "id": "f30uvpsZ1kHf"
   },
   "source": [
    "### Дополнительное задание"
   ]
  },
  {
   "cell_type": "markdown",
   "metadata": {
    "id": "lP6-ZAKd1pxy"
   },
   "source": [
    "Поиск разницы между \"endDate\" и \"startDate\" и вывод продолжительности каждой поездки в минутах в отдельном столбце."
   ]
  },
  {
   "cell_type": "markdown",
   "metadata": {
    "id": "fCqjIwSII1ir"
   },
   "source": [
    "Для этого из столбца \"endDate\" вычитается столбец \"startDate\" и результат приводится к минутам, новый столбец именуется как \"time\"."
   ]
  },
  {
   "cell_type": "code",
   "execution_count": 20,
   "metadata": {
    "colab": {
     "base_uri": "https://localhost:8080/",
     "height": 419
    },
    "executionInfo": {
     "elapsed": 465,
     "status": "ok",
     "timestamp": 1726075124297,
     "user": {
      "displayName": "Sherzod Mahkamov",
      "userId": "09824302253636367451"
     },
     "user_tz": -180
    },
    "id": "MlihyalJ19MU",
    "outputId": "60f4f0cf-aec6-4250-eef2-0fd5e28d2449"
   },
   "outputs": [
    {
     "data": {
      "text/html": [
       "<div>\n",
       "<style scoped>\n",
       "    .dataframe tbody tr th:only-of-type {\n",
       "        vertical-align: middle;\n",
       "    }\n",
       "\n",
       "    .dataframe tbody tr th {\n",
       "        vertical-align: top;\n",
       "    }\n",
       "\n",
       "    .dataframe thead th {\n",
       "        text-align: right;\n",
       "    }\n",
       "</style>\n",
       "<table border=\"1\" class=\"dataframe\">\n",
       "  <thead>\n",
       "    <tr style=\"text-align: right;\">\n",
       "      <th></th>\n",
       "      <th>startDate</th>\n",
       "      <th>endDate</th>\n",
       "      <th>category</th>\n",
       "      <th>start</th>\n",
       "      <th>stop</th>\n",
       "      <th>miles</th>\n",
       "      <th>purposeRoute</th>\n",
       "      <th>time</th>\n",
       "    </tr>\n",
       "  </thead>\n",
       "  <tbody>\n",
       "    <tr>\n",
       "      <th>0</th>\n",
       "      <td>2016-01-10 19:12:00</td>\n",
       "      <td>2016-01-10 19:32:00</td>\n",
       "      <td>Business</td>\n",
       "      <td>Midtown</td>\n",
       "      <td>East Harlem</td>\n",
       "      <td>44963.0</td>\n",
       "      <td>Meeting</td>\n",
       "      <td>20</td>\n",
       "    </tr>\n",
       "    <tr>\n",
       "      <th>1</th>\n",
       "      <td>2016-01-11 13:32:00</td>\n",
       "      <td>2016-01-11 13:46:00</td>\n",
       "      <td>Business</td>\n",
       "      <td>Midtown</td>\n",
       "      <td>Midtown East</td>\n",
       "      <td>45108.0</td>\n",
       "      <td>Meal/Entertain</td>\n",
       "      <td>14</td>\n",
       "    </tr>\n",
       "    <tr>\n",
       "      <th>2</th>\n",
       "      <td>2016-01-12 12:33:00</td>\n",
       "      <td>2016-01-12 12:49:00</td>\n",
       "      <td>Business</td>\n",
       "      <td>Midtown</td>\n",
       "      <td>Hudson Square</td>\n",
       "      <td>45170.0</td>\n",
       "      <td>Meal/Entertain</td>\n",
       "      <td>16</td>\n",
       "    </tr>\n",
       "    <tr>\n",
       "      <th>3</th>\n",
       "      <td>2016-01-13 15:00:00</td>\n",
       "      <td>2016-01-13 15:28:00</td>\n",
       "      <td>Business</td>\n",
       "      <td>Gulfton</td>\n",
       "      <td>Downtown</td>\n",
       "      <td>45149.0</td>\n",
       "      <td>Meeting</td>\n",
       "      <td>28</td>\n",
       "    </tr>\n",
       "    <tr>\n",
       "      <th>4</th>\n",
       "      <td>2016-01-29 21:21:00</td>\n",
       "      <td>2016-01-29 21:40:00</td>\n",
       "      <td>Business</td>\n",
       "      <td>Apex</td>\n",
       "      <td>Cary</td>\n",
       "      <td>45051.0</td>\n",
       "      <td>Meal/Entertain</td>\n",
       "      <td>19</td>\n",
       "    </tr>\n",
       "    <tr>\n",
       "      <th>...</th>\n",
       "      <td>...</td>\n",
       "      <td>...</td>\n",
       "      <td>...</td>\n",
       "      <td>...</td>\n",
       "      <td>...</td>\n",
       "      <td>...</td>\n",
       "      <td>...</td>\n",
       "      <td>...</td>\n",
       "    </tr>\n",
       "    <tr>\n",
       "      <th>154</th>\n",
       "      <td>2016-12-09 13:15:00</td>\n",
       "      <td>2016-12-09 13:43:00</td>\n",
       "      <td>Business</td>\n",
       "      <td>Apex</td>\n",
       "      <td>Cary</td>\n",
       "      <td>45146.0</td>\n",
       "      <td>Temporary Site</td>\n",
       "      <td>28</td>\n",
       "    </tr>\n",
       "    <tr>\n",
       "      <th>155</th>\n",
       "      <td>2016-12-10 22:09:00</td>\n",
       "      <td>2016-12-10 22:21:00</td>\n",
       "      <td>Business</td>\n",
       "      <td>Morrisville</td>\n",
       "      <td>Cary</td>\n",
       "      <td>44929.0</td>\n",
       "      <td>Customer Visit</td>\n",
       "      <td>12</td>\n",
       "    </tr>\n",
       "    <tr>\n",
       "      <th>156</th>\n",
       "      <td>2016-12-12 14:26:00</td>\n",
       "      <td>2016-12-12 14:39:00</td>\n",
       "      <td>Business</td>\n",
       "      <td>Apex</td>\n",
       "      <td>Cary</td>\n",
       "      <td>45111.0</td>\n",
       "      <td>Customer Visit</td>\n",
       "      <td>13</td>\n",
       "    </tr>\n",
       "    <tr>\n",
       "      <th>157</th>\n",
       "      <td>2016-12-12 20:48:00</td>\n",
       "      <td>2016-12-12 20:57:00</td>\n",
       "      <td>Business</td>\n",
       "      <td>Morrisville</td>\n",
       "      <td>Cary</td>\n",
       "      <td>3.0</td>\n",
       "      <td>Customer Visit</td>\n",
       "      <td>9</td>\n",
       "    </tr>\n",
       "    <tr>\n",
       "      <th>158</th>\n",
       "      <td>2016-12-14 20:24:00</td>\n",
       "      <td>2016-12-14 20:40:00</td>\n",
       "      <td>Business</td>\n",
       "      <td>Morrisville</td>\n",
       "      <td>Cary</td>\n",
       "      <td>44929.0</td>\n",
       "      <td>Customer Visit</td>\n",
       "      <td>16</td>\n",
       "    </tr>\n",
       "  </tbody>\n",
       "</table>\n",
       "<p>159 rows × 8 columns</p>\n",
       "</div>"
      ],
      "text/plain": [
       "              startDate             endDate  category        start  \\\n",
       "0   2016-01-10 19:12:00 2016-01-10 19:32:00  Business      Midtown   \n",
       "1   2016-01-11 13:32:00 2016-01-11 13:46:00  Business      Midtown   \n",
       "2   2016-01-12 12:33:00 2016-01-12 12:49:00  Business      Midtown   \n",
       "3   2016-01-13 15:00:00 2016-01-13 15:28:00  Business      Gulfton   \n",
       "4   2016-01-29 21:21:00 2016-01-29 21:40:00  Business         Apex   \n",
       "..                  ...                 ...       ...          ...   \n",
       "154 2016-12-09 13:15:00 2016-12-09 13:43:00  Business         Apex   \n",
       "155 2016-12-10 22:09:00 2016-12-10 22:21:00  Business  Morrisville   \n",
       "156 2016-12-12 14:26:00 2016-12-12 14:39:00  Business         Apex   \n",
       "157 2016-12-12 20:48:00 2016-12-12 20:57:00  Business  Morrisville   \n",
       "158 2016-12-14 20:24:00 2016-12-14 20:40:00  Business  Morrisville   \n",
       "\n",
       "              stop    miles    purposeRoute  time  \n",
       "0      East Harlem  44963.0         Meeting    20  \n",
       "1     Midtown East  45108.0  Meal/Entertain    14  \n",
       "2    Hudson Square  45170.0  Meal/Entertain    16  \n",
       "3         Downtown  45149.0         Meeting    28  \n",
       "4             Cary  45051.0  Meal/Entertain    19  \n",
       "..             ...      ...             ...   ...  \n",
       "154           Cary  45146.0  Temporary Site    28  \n",
       "155           Cary  44929.0  Customer Visit    12  \n",
       "156           Cary  45111.0  Customer Visit    13  \n",
       "157           Cary      3.0  Customer Visit     9  \n",
       "158           Cary  44929.0  Customer Visit    16  \n",
       "\n",
       "[159 rows x 8 columns]"
      ]
     },
     "execution_count": 20,
     "metadata": {},
     "output_type": "execute_result"
    }
   ],
   "source": [
    "drivers ['time'] = (drivers['endDate'] - drivers['startDate']).dt.components.minutes\n",
    "drivers"
   ]
  },
  {
   "cell_type": "markdown",
   "metadata": {
    "id": "qkLE0DpBHQjx"
   },
   "source": [
    "Теперь в имеющихся данных можно без труда проанализировать информацию о времени каждой поездки."
   ]
  }
 ],
 "metadata": {
  "colab": {
   "authorship_tag": "ABX9TyP5uWDEYGDyafGlX9JaC+ez",
   "mount_file_id": "1b9RJccjW4lJiZ6giPJbheLzFUSTKfhMK",
   "provenance": []
  },
  "kernelspec": {
   "display_name": "Python 3 (ipykernel)",
   "language": "python",
   "name": "python3"
  },
  "language_info": {
   "codemirror_mode": {
    "name": "ipython",
    "version": 3
   },
   "file_extension": ".py",
   "mimetype": "text/x-python",
   "name": "python",
   "nbconvert_exporter": "python",
   "pygments_lexer": "ipython3",
   "version": "3.12.1"
  }
 },
 "nbformat": 4,
 "nbformat_minor": 4
}
